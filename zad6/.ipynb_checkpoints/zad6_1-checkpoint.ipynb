{
 "cells": [
  {
   "cell_type": "markdown",
   "metadata": {},
   "source": [
    "# Jakim kotem jesteś?\n",
    "**Udziel odpowiedzi w skali od 1 do 5 kiedy:\n",
    "1 - zdecydowanie nie; 2 - raczej nie; 3 - nie mam zdania; 4 - raczej tak; 5 - zdecydowanie tak**"
   ]
  },
  {
   "cell_type": "code",
   "execution_count": 5,
   "metadata": {},
   "outputs": [],
   "source": [
    "a = \"Czy lubisz bawić się piłeczką?\"\n",
    "b = \"Czy często miewasz kłaczki?\"\n",
    "c = \"Czy często zrzucasz rzeczy bezsensownie oraz intencjonalnie z różnych powierzchni?\"\n",
    "d = \"Czy zdarza ci się drapać kanapę?\"\n",
    "e = \"Czy lubisz przeszkadzać innym w wykonywanych czynnościach?\"\n",
    "f = \"Czy lubisz gryźć kwiaty?\"\n",
    "punkty = []"
   ]
  },
  {
   "cell_type": "code",
   "execution_count": 6,
   "metadata": {},
   "outputs": [],
   "source": [
    "def test(os):\n",
    "\n",
    "    lista_pytan = [a, b, c, d, e, f]\n",
    "    \n",
    "def zadaj_pytanie(a):\n",
    "        \n",
    "    print(a)\n",
    "    ax = input(\"Twoja odpowiedź:\")\n",
    "    ax = int(ax)\n",
    "    if ax>5 or ax<1:\n",
    "        print(\"Mrrr nie oszukuj!!! Wpisz liczbę od 1 do 5.\")\n",
    "    else:\n",
    "        return ax"
   ]
  },
  {
   "cell_type": "code",
   "execution_count": 7,
   "metadata": {},
   "outputs": [
    {
     "name": "stdout",
     "output_type": "stream",
     "text": [
      "Czy lubisz bawić się piłeczką?\n"
     ]
    },
    {
     "name": "stdin",
     "output_type": "stream",
     "text": [
      "Twoja odpowiedź: 1\n"
     ]
    },
    {
     "name": "stdout",
     "output_type": "stream",
     "text": [
      "Czy często miewasz kłaczki?\n"
     ]
    },
    {
     "name": "stdin",
     "output_type": "stream",
     "text": [
      "Twoja odpowiedź: 1\n"
     ]
    },
    {
     "name": "stdout",
     "output_type": "stream",
     "text": [
      "Czy często zrzucasz rzeczy bezsensownie oraz intencjonalnie z różnych powierzchni?\n"
     ]
    },
    {
     "name": "stdin",
     "output_type": "stream",
     "text": [
      "Twoja odpowiedź: 1\n"
     ]
    },
    {
     "name": "stdout",
     "output_type": "stream",
     "text": [
      "Czy zdarza ci się drapać kanapę?\n"
     ]
    },
    {
     "name": "stdin",
     "output_type": "stream",
     "text": [
      "Twoja odpowiedź: 1\n"
     ]
    },
    {
     "name": "stdout",
     "output_type": "stream",
     "text": [
      "Czy lubisz przeszkadzać innym w wykonywanych czynnościach?\n"
     ]
    },
    {
     "name": "stdin",
     "output_type": "stream",
     "text": [
      "Twoja odpowiedź: 1\n"
     ]
    },
    {
     "name": "stdout",
     "output_type": "stream",
     "text": [
      "Czy lubisz gryźć kwiaty?\n"
     ]
    },
    {
     "name": "stdin",
     "output_type": "stream",
     "text": [
      "Twoja odpowiedź: 1\n"
     ]
    },
    {
     "name": "stdout",
     "output_type": "stream",
     "text": [
      "Twój wynik to 6 . Gratulacje!!! Nie jesteś kotem. Jesteś człowiekiem. Czego się spodziewałeś?\n"
     ]
    }
   ],
   "source": [
    "pkt = zadaj_pytanie(a)\n",
    "punkty.append(pkt)\n",
    "pkt = zadaj_pytanie(b)\n",
    "punkty.append(pkt)\n",
    "pkt = zadaj_pytanie(c)\n",
    "punkty.append(pkt)\n",
    "pkt = zadaj_pytanie(d)\n",
    "punkty.append(pkt)\n",
    "pkt = zadaj_pytanie(e)\n",
    "punkty.append(pkt)\n",
    "pkt = zadaj_pytanie(f)\n",
    "punkty.append(pkt)\n",
    "wynik = sum(punkty)\n",
    "wynik = int(wynik)\n",
    "if wynik >= 5 and wynik < 20:\n",
    "    print(\"Twój wynik to\", wynik, \".\", \"Gratulacje!!! Nie jesteś kotem. Jesteś człowiekiem. Czego się spodziewałeś?\")\n",
    "elif wynik >= 20 and wynik < 30:\n",
    "    print(\"Twój wynik to\", wynik, \".\", \"Ej... Dalej nie jesteś kotem, koty nie potrafią rozwiązywać testów. Polecam lekarza?\")\n",
    "    \n",
    "if wynik > 0:\n",
    "    punkty.pop(0)\n",
    "    punkty.pop(0)\n",
    "    punkty.pop(0)\n",
    "    punkty.pop(0)\n",
    "    punkty.pop(0)\n",
    "else:\n",
    "    print(\"Dziękuję za wykonanie testu! Mam nadzieje, że wszystko z tobą w porządku :)\")"
   ]
  },
  {
   "cell_type": "code",
   "execution_count": null,
   "metadata": {},
   "outputs": [],
   "source": []
  }
 ],
 "metadata": {
  "kernelspec": {
   "display_name": "Python 3",
   "language": "python",
   "name": "python3"
  },
  "language_info": {
   "codemirror_mode": {
    "name": "ipython",
    "version": 3
   },
   "file_extension": ".py",
   "mimetype": "text/x-python",
   "name": "python",
   "nbconvert_exporter": "python",
   "pygments_lexer": "ipython3",
   "version": "3.7.0"
  }
 },
 "nbformat": 4,
 "nbformat_minor": 2
}
