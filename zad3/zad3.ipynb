{
 "cells": [
  {
   "cell_type": "markdown",
   "metadata": {},
   "source": [
    "Średnia ocen"
   ]
  },
  {
   "cell_type": "markdown",
   "metadata": {},
   "source": [
    "Moje dzieło wyliczające średnią ocen z pierwszego semestru pierwszego roku studiów \n"
   ]
  },
  {
   "cell_type": "code",
   "execution_count": 8,
   "metadata": {},
   "outputs": [],
   "source": [
    "Metodologia = 4.0\n",
    "Neuroanatomia = 3.0\n",
    "Logika = 5.0\n",
    "Filozofia = 5.0\n",
    "Komunikacja_interpersonalna = 5.0\n",
    "BMZ = 4.0\n",
    "Przeglad_dziedzin = 5.0\n",
    "Trening_interpersonalny = 5.0\n",
    "Technologie_informatyczne = 5.0\n",
    "Psychologia_ogolna = 4.5\n",
    "Wf = 5.0\n",
    "Statystyka = 4.0\n",
    "Jezyk_obcy = 4.0\n"
   ]
  },
  {
   "cell_type": "code",
   "execution_count": 9,
   "metadata": {},
   "outputs": [],
   "source": [
    "suma = Metodologia + Neuroanatomia + Logika + Filozofia + Komunikacja_interpersonalna + BMZ + Przeglad_dziedzin + Trening_interpersonalny + Technologie_informatyczne + Psychologia_ogolna + Wf + Statystyka + Jezyk_obcy"
   ]
  },
  {
   "cell_type": "code",
   "execution_count": 10,
   "metadata": {},
   "outputs": [],
   "source": [
    "srednia = suma/13"
   ]
  },
  {
   "cell_type": "code",
   "execution_count": 11,
   "metadata": {},
   "outputs": [
    {
     "name": "stdout",
     "output_type": "stream",
     "text": [
      "Moja średnia w pierwszym semestrze studiów to 4.5\n"
     ]
    }
   ],
   "source": [
    "print(\"Moja średnia w pierwszym semestrze studiów to\", str(srednia))"
   ]
  },
  {
   "cell_type": "code",
   "execution_count": null,
   "metadata": {},
   "outputs": [],
   "source": []
  }
 ],
 "metadata": {
  "kernelspec": {
   "display_name": "Python 3",
   "language": "python",
   "name": "python3"
  },
  "language_info": {
   "codemirror_mode": {
    "name": "ipython",
    "version": 3
   },
   "file_extension": ".py",
   "mimetype": "text/x-python",
   "name": "python",
   "nbconvert_exporter": "python",
   "pygments_lexer": "ipython3",
   "version": "3.7.0"
  }
 },
 "nbformat": 4,
 "nbformat_minor": 2
}
