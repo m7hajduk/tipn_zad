{
 "cells": [
  {
   "cell_type": "code",
   "execution_count": null,
   "metadata": {},
   "outputs": [],
   "source": [
    "zdanie = input(\"Podaj dowolne zdanie:\")\n",
    "l = 0\n",
    "lista = [1]\n",
    "\n",
    "for l in zdanie:\n",
    "    if  l == ' ':\n",
    "        lista.append(1)\n",
    "\n",
    "print(\"Zdanie:\", zdanie)\n",
    "print(\"Liczba słów w podanym zdaniu:\", len(lista))"
   ]
  },
  {
   "cell_type": "code",
   "execution_count": null,
   "metadata": {},
   "outputs": [],
   "source": []
  }
 ],
 "metadata": {
  "kernelspec": {
   "display_name": "Python 3",
   "language": "python",
   "name": "python3"
  },
  "language_info": {
   "codemirror_mode": {
    "name": "ipython",
    "version": 3
   },
   "file_extension": ".py",
   "mimetype": "text/x-python",
   "name": "python",
   "nbconvert_exporter": "python",
   "pygments_lexer": "ipython3",
   "version": "3.7.0"
  }
 },
 "nbformat": 4,
 "nbformat_minor": 2
}
