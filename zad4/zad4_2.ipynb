{
 "cells": [
  {
   "cell_type": "code",
   "execution_count": 1,
   "metadata": {},
   "outputs": [],
   "source": [
    "przedmioty = [\"logika\", \"neuroanatomia\", \"psychologia\", \"BMZ\", \"statystyka\"]"
   ]
  },
  {
   "cell_type": "code",
   "execution_count": 1,
   "metadata": {},
   "outputs": [
    {
     "name": "stdin",
     "output_type": "stream",
     "text": [
      "podaj ocene z logiki: 5\n",
      "podaj ocene z neuroanatomii: 3\n",
      "podaj ocene z psychologii: 5\n",
      "podaj ocene z BMZ: 4\n",
      "podaj ocene ze statystyki: 3\n"
     ]
    },
    {
     "name": "stdout",
     "output_type": "stream",
     "text": [
      "[5.0, 3.0, 5.0, 4.0, 3.0]\n"
     ]
    }
   ],
   "source": [
    "oceny = []\n",
    "logika = input(\"podaj ocene z logiki:\")\n",
    "oceny.append(float(logika))\n",
    "neuroanatomia = input(\"podaj ocene z neuroanatomii:\")\n",
    "oceny.append(float(neuroanatomia))\n",
    "psychologia = input(\"podaj ocene z psychologii:\")\n",
    "oceny.append(float(psychologia))\n",
    "BMZ = input(\"podaj ocene z BMZ:\")\n",
    "oceny.append(float(BMZ))\n",
    "statystyka = input(\"podaj ocene ze statystyki:\")\n",
    "oceny.append(float(statystyka))\n",
    "print(oceny)"
   ]
  },
  {
   "cell_type": "code",
   "execution_count": 3,
   "metadata": {},
   "outputs": [
    {
     "name": "stdout",
     "output_type": "stream",
     "text": [
      "4.2\n"
     ]
    }
   ],
   "source": [
    "srednia = sum(oceny) / len(oceny)\n",
    "print(srednia)"
   ]
  },
  {
   "cell_type": "code",
   "execution_count": 4,
   "metadata": {},
   "outputs": [
    {
     "name": "stdout",
     "output_type": "stream",
     "text": [
      "moja średnia to: 4.2\n"
     ]
    }
   ],
   "source": [
    "print(\"moja średnia to:\", str(srednia))"
   ]
  },
  {
   "cell_type": "code",
   "execution_count": null,
   "metadata": {},
   "outputs": [],
   "source": []
  }
 ],
 "metadata": {
  "kernelspec": {
   "display_name": "Python 3",
   "language": "python",
   "name": "python3"
  },
  "language_info": {
   "codemirror_mode": {
    "name": "ipython",
    "version": 3
   },
   "file_extension": ".py",
   "mimetype": "text/x-python",
   "name": "python",
   "nbconvert_exporter": "python",
   "pygments_lexer": "ipython3",
   "version": "3.7.0"
  }
 },
 "nbformat": 4,
 "nbformat_minor": 2
}
